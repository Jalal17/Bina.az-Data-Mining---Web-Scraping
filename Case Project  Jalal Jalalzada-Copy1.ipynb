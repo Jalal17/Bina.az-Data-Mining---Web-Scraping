{
 "cells": [
  {
   "cell_type": "code",
   "execution_count": 168,
   "id": "d8e310a2",
   "metadata": {},
   "outputs": [],
   "source": [
    "import requests\n",
    "from bs4 import BeautifulSoup\n",
    "import numpy as np\n",
    "import pandas as pd\n",
    "import re "
   ]
  },
  {
   "cell_type": "code",
   "execution_count": null,
   "id": "4f147401",
   "metadata": {},
   "outputs": [],
   "source": []
  },
  {
   "cell_type": "markdown",
   "id": "70e444a1",
   "metadata": {},
   "source": [
    "#### Data Mining - Web Scraping"
   ]
  },
  {
   "cell_type": "code",
   "execution_count": 169,
   "id": "a6a894b3",
   "metadata": {},
   "outputs": [],
   "source": [
    "url = 'https://bina.az/items/all?page=1'\n",
    "page = requests.get(url)"
   ]
  },
  {
   "cell_type": "code",
   "execution_count": 170,
   "id": "55f734ed",
   "metadata": {},
   "outputs": [],
   "source": [
    "html = BeautifulSoup(page.content, 'html.parser')"
   ]
  },
  {
   "cell_type": "code",
   "execution_count": 171,
   "id": "9b22aa21",
   "metadata": {},
   "outputs": [],
   "source": [
    "homes = html.find_all('div', class_ = 'card_params')"
   ]
  },
  {
   "cell_type": "code",
   "execution_count": 172,
   "id": "6e4ce4be",
   "metadata": {},
   "outputs": [],
   "source": [
    "home_info = re.sub('<[^>]+>', '-', str(homes[0])).split('---')"
   ]
  },
  {
   "cell_type": "code",
   "execution_count": 173,
   "id": "750c2ed4",
   "metadata": {},
   "outputs": [
    {
     "data": {
      "text/plain": [
       "['',\n",
       " '-129 000--AZN',\n",
       " '-28 May m.',\n",
       " '1 otaqlı--58 m²--8/16 mərtəbə',\n",
       " '-Bakı, bugün 00:12',\n",
       " '']"
      ]
     },
     "execution_count": 173,
     "metadata": {},
     "output_type": "execute_result"
    }
   ],
   "source": [
    "home_info"
   ]
  },
  {
   "cell_type": "code",
   "execution_count": 174,
   "id": "151056ec",
   "metadata": {},
   "outputs": [],
   "source": [
    "binaaz_data = pd.DataFrame()"
   ]
  },
  {
   "cell_type": "code",
   "execution_count": 175,
   "id": "14134ed0",
   "metadata": {},
   "outputs": [],
   "source": [
    "\n",
    "for page_number in range(1,2250):\n",
    "    url = f'https://bina.az/items/all?page={page_number}'\n",
    "\n",
    "    page = requests.get(url)\n",
    "\n",
    "    # convert to html\n",
    "    html = BeautifulSoup(page.content, 'html.parser')\n",
    "\n",
    "    homes = html.find_all('div', class_ = 'card_params')\n",
    "    for i in range(0,23):\n",
    "        try:\n",
    "            home_info = re.sub('<[^>]+>', '-', str(homes[i])).split('---')\n",
    "            price = home_info[1]\n",
    "            if '/gün' in str(home_info):\n",
    "                sell_type = 'Günlük'\n",
    "                price = price.replace('-','').replace('AZN','').replace(' ','').split('/')[0]\n",
    "            elif 'ay' in str(home_info):\n",
    "                sell_type = 'Aylıq'\n",
    "                price = price.replace('-','').replace('AZN','').replace(' ','').split('/')[0]\n",
    "            else:\n",
    "                sell_type = 'Satış'\n",
    "                price = int(price.replace('-','').replace('AZN','').replace(' ',''))\n",
    "\n",
    "            region = home_info[2].replace('-','').strip()\n",
    "            \n",
    "            \n",
    "            if (home_info[3]).count('--') == 0:\n",
    "                room_count = 0\n",
    "                floor = 0\n",
    "                kvm = home_info[3]\n",
    "            elif (home_info[3]).count('--') == 1:\n",
    "                floor = 0\n",
    "                room_count = int(home_info[3].split('--')[0].split(' ')[0])\n",
    "                kvm = kvm = home_info[3].split('--')[1]\n",
    "            else:\n",
    "                room_count = int(home_info[3].split('--')[0].split(' ')[0])\n",
    "                kvm = kvm = home_info[3].split('--')[1]\n",
    "                floor = int(home_info[3].split('--')[2].split('/')[0])\n",
    "\n",
    "\n",
    "\n",
    "           \n",
    "\n",
    "            binaaz_data = binaaz_data.append({\n",
    "                'Price':price,\n",
    "                'Sale_Type':sell_type,\n",
    "                'Location':region,\n",
    "                'Number_of_rooms':room_count,\n",
    "                'KvM':kvm,\n",
    "                'Floor':floor}, ignore_index = True)\n",
    "        except:\n",
    "            continue\n"
   ]
  },
  {
   "cell_type": "code",
   "execution_count": 176,
   "id": "574c7ba1",
   "metadata": {},
   "outputs": [
    {
     "data": {
      "text/html": [
       "<div>\n",
       "<style scoped>\n",
       "    .dataframe tbody tr th:only-of-type {\n",
       "        vertical-align: middle;\n",
       "    }\n",
       "\n",
       "    .dataframe tbody tr th {\n",
       "        vertical-align: top;\n",
       "    }\n",
       "\n",
       "    .dataframe thead th {\n",
       "        text-align: right;\n",
       "    }\n",
       "</style>\n",
       "<table border=\"1\" class=\"dataframe\">\n",
       "  <thead>\n",
       "    <tr style=\"text-align: right;\">\n",
       "      <th></th>\n",
       "      <th>Floor</th>\n",
       "      <th>KvM</th>\n",
       "      <th>Location</th>\n",
       "      <th>Number_of_rooms</th>\n",
       "      <th>Price</th>\n",
       "      <th>Sale_Type</th>\n",
       "    </tr>\n",
       "  </thead>\n",
       "  <tbody>\n",
       "    <tr>\n",
       "      <th>0</th>\n",
       "      <td>8.0</td>\n",
       "      <td>58 m²</td>\n",
       "      <td>28 May m.</td>\n",
       "      <td>1.0</td>\n",
       "      <td>129000</td>\n",
       "      <td>Aylıq</td>\n",
       "    </tr>\n",
       "    <tr>\n",
       "      <th>1</th>\n",
       "      <td>1.0</td>\n",
       "      <td>80 m²</td>\n",
       "      <td>Qara Qarayev m.</td>\n",
       "      <td>3.0</td>\n",
       "      <td>125000</td>\n",
       "      <td>Aylıq</td>\n",
       "    </tr>\n",
       "    <tr>\n",
       "      <th>2</th>\n",
       "      <td>0.0</td>\n",
       "      <td>510 m²</td>\n",
       "      <td>Sumqayıt</td>\n",
       "      <td>0.0</td>\n",
       "      <td>4500</td>\n",
       "      <td>Aylıq</td>\n",
       "    </tr>\n",
       "    <tr>\n",
       "      <th>3</th>\n",
       "      <td>0.0</td>\n",
       "      <td>530 m²</td>\n",
       "      <td>Elmlər Akademiyası m.</td>\n",
       "      <td>0.0</td>\n",
       "      <td>2700000</td>\n",
       "      <td>Satış</td>\n",
       "    </tr>\n",
       "    <tr>\n",
       "      <th>4</th>\n",
       "      <td>4.0</td>\n",
       "      <td>58 m²</td>\n",
       "      <td>Memar Əcəmi m.</td>\n",
       "      <td>2.0</td>\n",
       "      <td>87000</td>\n",
       "      <td>Satış</td>\n",
       "    </tr>\n",
       "    <tr>\n",
       "      <th>...</th>\n",
       "      <td>...</td>\n",
       "      <td>...</td>\n",
       "      <td>...</td>\n",
       "      <td>...</td>\n",
       "      <td>...</td>\n",
       "      <td>...</td>\n",
       "    </tr>\n",
       "    <tr>\n",
       "      <th>51722</th>\n",
       "      <td>4.0</td>\n",
       "      <td>145 m²</td>\n",
       "      <td>Şah İsmayıl Xətai m.</td>\n",
       "      <td>3.0</td>\n",
       "      <td>250000</td>\n",
       "      <td>Aylıq</td>\n",
       "    </tr>\n",
       "    <tr>\n",
       "      <th>51723</th>\n",
       "      <td>3.0</td>\n",
       "      <td>120 m²</td>\n",
       "      <td>Nərimanov r.</td>\n",
       "      <td>3.0</td>\n",
       "      <td>215000</td>\n",
       "      <td>Satış</td>\n",
       "    </tr>\n",
       "    <tr>\n",
       "      <th>51724</th>\n",
       "      <td>2.0</td>\n",
       "      <td>52 m²</td>\n",
       "      <td>28 May m.</td>\n",
       "      <td>1.0</td>\n",
       "      <td>95000</td>\n",
       "      <td>Aylıq</td>\n",
       "    </tr>\n",
       "    <tr>\n",
       "      <th>51725</th>\n",
       "      <td>10.0</td>\n",
       "      <td>130 m²</td>\n",
       "      <td>Nəriman Nərimanov m.</td>\n",
       "      <td>3.0</td>\n",
       "      <td>274900</td>\n",
       "      <td>Satış</td>\n",
       "    </tr>\n",
       "    <tr>\n",
       "      <th>51726</th>\n",
       "      <td>14.0</td>\n",
       "      <td>110 m²</td>\n",
       "      <td>Nəriman Nərimanov m.</td>\n",
       "      <td>3.0</td>\n",
       "      <td>700</td>\n",
       "      <td>Aylıq</td>\n",
       "    </tr>\n",
       "  </tbody>\n",
       "</table>\n",
       "<p>51727 rows × 6 columns</p>\n",
       "</div>"
      ],
      "text/plain": [
       "       Floor     KvM               Location  Number_of_rooms    Price  \\\n",
       "0        8.0   58 m²              28 May m.              1.0   129000   \n",
       "1        1.0   80 m²        Qara Qarayev m.              3.0   125000   \n",
       "2        0.0  510 m²               Sumqayıt              0.0     4500   \n",
       "3        0.0  530 m²  Elmlər Akademiyası m.              0.0  2700000   \n",
       "4        4.0   58 m²         Memar Əcəmi m.              2.0    87000   \n",
       "...      ...     ...                    ...              ...      ...   \n",
       "51722    4.0  145 m²   Şah İsmayıl Xətai m.              3.0   250000   \n",
       "51723    3.0  120 m²           Nərimanov r.              3.0   215000   \n",
       "51724    2.0   52 m²              28 May m.              1.0    95000   \n",
       "51725   10.0  130 m²   Nəriman Nərimanov m.              3.0   274900   \n",
       "51726   14.0  110 m²   Nəriman Nərimanov m.              3.0      700   \n",
       "\n",
       "      Sale_Type  \n",
       "0         Aylıq  \n",
       "1         Aylıq  \n",
       "2         Aylıq  \n",
       "3         Satış  \n",
       "4         Satış  \n",
       "...         ...  \n",
       "51722     Aylıq  \n",
       "51723     Satış  \n",
       "51724     Aylıq  \n",
       "51725     Satış  \n",
       "51726     Aylıq  \n",
       "\n",
       "[51727 rows x 6 columns]"
      ]
     },
     "execution_count": 176,
     "metadata": {},
     "output_type": "execute_result"
    }
   ],
   "source": [
    "binaaz_data"
   ]
  },
  {
   "cell_type": "code",
   "execution_count": 316,
   "id": "e14b55d3",
   "metadata": {},
   "outputs": [],
   "source": [
    "df=binaaz_data.copy()"
   ]
  },
  {
   "cell_type": "code",
   "execution_count": 317,
   "id": "aaf0d4df",
   "metadata": {},
   "outputs": [
    {
     "data": {
      "text/html": [
       "<div>\n",
       "<style scoped>\n",
       "    .dataframe tbody tr th:only-of-type {\n",
       "        vertical-align: middle;\n",
       "    }\n",
       "\n",
       "    .dataframe tbody tr th {\n",
       "        vertical-align: top;\n",
       "    }\n",
       "\n",
       "    .dataframe thead th {\n",
       "        text-align: right;\n",
       "    }\n",
       "</style>\n",
       "<table border=\"1\" class=\"dataframe\">\n",
       "  <thead>\n",
       "    <tr style=\"text-align: right;\">\n",
       "      <th></th>\n",
       "      <th>Floor</th>\n",
       "      <th>KvM</th>\n",
       "      <th>Location</th>\n",
       "      <th>Number_of_rooms</th>\n",
       "      <th>Price</th>\n",
       "      <th>Sale_Type</th>\n",
       "    </tr>\n",
       "  </thead>\n",
       "  <tbody>\n",
       "    <tr>\n",
       "      <th>0</th>\n",
       "      <td>8.0</td>\n",
       "      <td>58 m²</td>\n",
       "      <td>28 May m.</td>\n",
       "      <td>1.0</td>\n",
       "      <td>129000</td>\n",
       "      <td>Aylıq</td>\n",
       "    </tr>\n",
       "    <tr>\n",
       "      <th>1</th>\n",
       "      <td>1.0</td>\n",
       "      <td>80 m²</td>\n",
       "      <td>Qara Qarayev m.</td>\n",
       "      <td>3.0</td>\n",
       "      <td>125000</td>\n",
       "      <td>Aylıq</td>\n",
       "    </tr>\n",
       "    <tr>\n",
       "      <th>2</th>\n",
       "      <td>0.0</td>\n",
       "      <td>510 m²</td>\n",
       "      <td>Sumqayıt</td>\n",
       "      <td>0.0</td>\n",
       "      <td>4500</td>\n",
       "      <td>Aylıq</td>\n",
       "    </tr>\n",
       "    <tr>\n",
       "      <th>3</th>\n",
       "      <td>0.0</td>\n",
       "      <td>530 m²</td>\n",
       "      <td>Elmlər Akademiyası m.</td>\n",
       "      <td>0.0</td>\n",
       "      <td>2700000</td>\n",
       "      <td>Satış</td>\n",
       "    </tr>\n",
       "    <tr>\n",
       "      <th>4</th>\n",
       "      <td>4.0</td>\n",
       "      <td>58 m²</td>\n",
       "      <td>Memar Əcəmi m.</td>\n",
       "      <td>2.0</td>\n",
       "      <td>87000</td>\n",
       "      <td>Satış</td>\n",
       "    </tr>\n",
       "    <tr>\n",
       "      <th>...</th>\n",
       "      <td>...</td>\n",
       "      <td>...</td>\n",
       "      <td>...</td>\n",
       "      <td>...</td>\n",
       "      <td>...</td>\n",
       "      <td>...</td>\n",
       "    </tr>\n",
       "    <tr>\n",
       "      <th>51722</th>\n",
       "      <td>4.0</td>\n",
       "      <td>145 m²</td>\n",
       "      <td>Şah İsmayıl Xətai m.</td>\n",
       "      <td>3.0</td>\n",
       "      <td>250000</td>\n",
       "      <td>Aylıq</td>\n",
       "    </tr>\n",
       "    <tr>\n",
       "      <th>51723</th>\n",
       "      <td>3.0</td>\n",
       "      <td>120 m²</td>\n",
       "      <td>Nərimanov r.</td>\n",
       "      <td>3.0</td>\n",
       "      <td>215000</td>\n",
       "      <td>Satış</td>\n",
       "    </tr>\n",
       "    <tr>\n",
       "      <th>51724</th>\n",
       "      <td>2.0</td>\n",
       "      <td>52 m²</td>\n",
       "      <td>28 May m.</td>\n",
       "      <td>1.0</td>\n",
       "      <td>95000</td>\n",
       "      <td>Aylıq</td>\n",
       "    </tr>\n",
       "    <tr>\n",
       "      <th>51725</th>\n",
       "      <td>10.0</td>\n",
       "      <td>130 m²</td>\n",
       "      <td>Nəriman Nərimanov m.</td>\n",
       "      <td>3.0</td>\n",
       "      <td>274900</td>\n",
       "      <td>Satış</td>\n",
       "    </tr>\n",
       "    <tr>\n",
       "      <th>51726</th>\n",
       "      <td>14.0</td>\n",
       "      <td>110 m²</td>\n",
       "      <td>Nəriman Nərimanov m.</td>\n",
       "      <td>3.0</td>\n",
       "      <td>700</td>\n",
       "      <td>Aylıq</td>\n",
       "    </tr>\n",
       "  </tbody>\n",
       "</table>\n",
       "<p>51727 rows × 6 columns</p>\n",
       "</div>"
      ],
      "text/plain": [
       "       Floor     KvM               Location  Number_of_rooms    Price  \\\n",
       "0        8.0   58 m²              28 May m.              1.0   129000   \n",
       "1        1.0   80 m²        Qara Qarayev m.              3.0   125000   \n",
       "2        0.0  510 m²               Sumqayıt              0.0     4500   \n",
       "3        0.0  530 m²  Elmlər Akademiyası m.              0.0  2700000   \n",
       "4        4.0   58 m²         Memar Əcəmi m.              2.0    87000   \n",
       "...      ...     ...                    ...              ...      ...   \n",
       "51722    4.0  145 m²   Şah İsmayıl Xətai m.              3.0   250000   \n",
       "51723    3.0  120 m²           Nərimanov r.              3.0   215000   \n",
       "51724    2.0   52 m²              28 May m.              1.0    95000   \n",
       "51725   10.0  130 m²   Nəriman Nərimanov m.              3.0   274900   \n",
       "51726   14.0  110 m²   Nəriman Nərimanov m.              3.0      700   \n",
       "\n",
       "      Sale_Type  \n",
       "0         Aylıq  \n",
       "1         Aylıq  \n",
       "2         Aylıq  \n",
       "3         Satış  \n",
       "4         Satış  \n",
       "...         ...  \n",
       "51722     Aylıq  \n",
       "51723     Satış  \n",
       "51724     Aylıq  \n",
       "51725     Satış  \n",
       "51726     Aylıq  \n",
       "\n",
       "[51727 rows x 6 columns]"
      ]
     },
     "execution_count": 317,
     "metadata": {},
     "output_type": "execute_result"
    }
   ],
   "source": [
    "\n",
    "df"
   ]
  },
  {
   "cell_type": "code",
   "execution_count": 318,
   "id": "509f4938",
   "metadata": {},
   "outputs": [
    {
     "name": "stdout",
     "output_type": "stream",
     "text": [
      "<class 'pandas.core.frame.DataFrame'>\n",
      "RangeIndex: 51727 entries, 0 to 51726\n",
      "Data columns (total 6 columns):\n",
      " #   Column           Non-Null Count  Dtype  \n",
      "---  ------           --------------  -----  \n",
      " 0   Floor            51727 non-null  float64\n",
      " 1   KvM              51727 non-null  object \n",
      " 2   Location         51727 non-null  object \n",
      " 3   Number_of_rooms  51727 non-null  float64\n",
      " 4   Price            51727 non-null  object \n",
      " 5   Sale_Type        51727 non-null  object \n",
      "dtypes: float64(2), object(4)\n",
      "memory usage: 2.4+ MB\n"
     ]
    }
   ],
   "source": [
    "df.info()"
   ]
  },
  {
   "cell_type": "code",
   "execution_count": 319,
   "id": "d0df530e",
   "metadata": {},
   "outputs": [],
   "source": [
    "df['KvM_']=df['KvM'].str.split(' ',expand=True)[0]"
   ]
  },
  {
   "cell_type": "code",
   "execution_count": 320,
   "id": "e8d2b7c1",
   "metadata": {},
   "outputs": [],
   "source": [
    "df=df.drop('KvM',axis=1)"
   ]
  },
  {
   "cell_type": "code",
   "execution_count": 321,
   "id": "f417a08b",
   "metadata": {},
   "outputs": [],
   "source": [
    "df['KvM_']=df['KvM_'].astype(float)"
   ]
  },
  {
   "cell_type": "code",
   "execution_count": 322,
   "id": "e49262a9",
   "metadata": {},
   "outputs": [
    {
     "name": "stdout",
     "output_type": "stream",
     "text": [
      "<class 'pandas.core.frame.DataFrame'>\n",
      "RangeIndex: 51727 entries, 0 to 51726\n",
      "Data columns (total 6 columns):\n",
      " #   Column           Non-Null Count  Dtype  \n",
      "---  ------           --------------  -----  \n",
      " 0   Floor            51727 non-null  float64\n",
      " 1   Location         51727 non-null  object \n",
      " 2   Number_of_rooms  51727 non-null  float64\n",
      " 3   Price            51727 non-null  object \n",
      " 4   Sale_Type        51727 non-null  object \n",
      " 5   KvM_             51727 non-null  float64\n",
      "dtypes: float64(3), object(3)\n",
      "memory usage: 2.4+ MB\n"
     ]
    }
   ],
   "source": [
    "df.info()"
   ]
  },
  {
   "cell_type": "code",
   "execution_count": 323,
   "id": "5df4c38d",
   "metadata": {},
   "outputs": [],
   "source": [
    "df['Price']=df['Price'].astype(int)"
   ]
  },
  {
   "cell_type": "code",
   "execution_count": 324,
   "id": "812aa1b3",
   "metadata": {},
   "outputs": [
    {
     "data": {
      "text/html": [
       "<div>\n",
       "<style scoped>\n",
       "    .dataframe tbody tr th:only-of-type {\n",
       "        vertical-align: middle;\n",
       "    }\n",
       "\n",
       "    .dataframe tbody tr th {\n",
       "        vertical-align: top;\n",
       "    }\n",
       "\n",
       "    .dataframe thead th {\n",
       "        text-align: right;\n",
       "    }\n",
       "</style>\n",
       "<table border=\"1\" class=\"dataframe\">\n",
       "  <thead>\n",
       "    <tr style=\"text-align: right;\">\n",
       "      <th></th>\n",
       "      <th>Floor</th>\n",
       "      <th>Number_of_rooms</th>\n",
       "      <th>Price</th>\n",
       "      <th>KvM_</th>\n",
       "    </tr>\n",
       "  </thead>\n",
       "  <tbody>\n",
       "    <tr>\n",
       "      <th>count</th>\n",
       "      <td>51727.000000</td>\n",
       "      <td>51727.000000</td>\n",
       "      <td>5.172700e+04</td>\n",
       "      <td>5.172700e+04</td>\n",
       "    </tr>\n",
       "    <tr>\n",
       "      <th>mean</th>\n",
       "      <td>5.650840</td>\n",
       "      <td>2.561332</td>\n",
       "      <td>2.230401e+05</td>\n",
       "      <td>2.589598e+02</td>\n",
       "    </tr>\n",
       "    <tr>\n",
       "      <th>std</th>\n",
       "      <td>5.537635</td>\n",
       "      <td>1.791230</td>\n",
       "      <td>6.989953e+05</td>\n",
       "      <td>1.011674e+04</td>\n",
       "    </tr>\n",
       "    <tr>\n",
       "      <th>min</th>\n",
       "      <td>0.000000</td>\n",
       "      <td>0.000000</td>\n",
       "      <td>1.000000e+01</td>\n",
       "      <td>1.000000e-01</td>\n",
       "    </tr>\n",
       "    <tr>\n",
       "      <th>25%</th>\n",
       "      <td>0.000000</td>\n",
       "      <td>2.000000</td>\n",
       "      <td>4.200000e+04</td>\n",
       "      <td>7.000000e+01</td>\n",
       "    </tr>\n",
       "    <tr>\n",
       "      <th>50%</th>\n",
       "      <td>4.000000</td>\n",
       "      <td>3.000000</td>\n",
       "      <td>1.250000e+05</td>\n",
       "      <td>1.000000e+02</td>\n",
       "    </tr>\n",
       "    <tr>\n",
       "      <th>75%</th>\n",
       "      <td>9.000000</td>\n",
       "      <td>3.000000</td>\n",
       "      <td>2.250000e+05</td>\n",
       "      <td>1.550000e+02</td>\n",
       "    </tr>\n",
       "    <tr>\n",
       "      <th>max</th>\n",
       "      <td>27.000000</td>\n",
       "      <td>20.000000</td>\n",
       "      <td>4.680000e+07</td>\n",
       "      <td>2.000000e+06</td>\n",
       "    </tr>\n",
       "  </tbody>\n",
       "</table>\n",
       "</div>"
      ],
      "text/plain": [
       "              Floor  Number_of_rooms         Price          KvM_\n",
       "count  51727.000000     51727.000000  5.172700e+04  5.172700e+04\n",
       "mean       5.650840         2.561332  2.230401e+05  2.589598e+02\n",
       "std        5.537635         1.791230  6.989953e+05  1.011674e+04\n",
       "min        0.000000         0.000000  1.000000e+01  1.000000e-01\n",
       "25%        0.000000         2.000000  4.200000e+04  7.000000e+01\n",
       "50%        4.000000         3.000000  1.250000e+05  1.000000e+02\n",
       "75%        9.000000         3.000000  2.250000e+05  1.550000e+02\n",
       "max       27.000000        20.000000  4.680000e+07  2.000000e+06"
      ]
     },
     "execution_count": 324,
     "metadata": {},
     "output_type": "execute_result"
    }
   ],
   "source": [
    "df.describe()"
   ]
  },
  {
   "cell_type": "code",
   "execution_count": 325,
   "id": "408b9045",
   "metadata": {},
   "outputs": [
    {
     "data": {
      "text/html": [
       "<div>\n",
       "<style scoped>\n",
       "    .dataframe tbody tr th:only-of-type {\n",
       "        vertical-align: middle;\n",
       "    }\n",
       "\n",
       "    .dataframe tbody tr th {\n",
       "        vertical-align: top;\n",
       "    }\n",
       "\n",
       "    .dataframe thead th {\n",
       "        text-align: right;\n",
       "    }\n",
       "</style>\n",
       "<table border=\"1\" class=\"dataframe\">\n",
       "  <thead>\n",
       "    <tr style=\"text-align: right;\">\n",
       "      <th></th>\n",
       "      <th>Floor</th>\n",
       "      <th>Number_of_rooms</th>\n",
       "      <th>Price</th>\n",
       "      <th>KvM_</th>\n",
       "    </tr>\n",
       "  </thead>\n",
       "  <tbody>\n",
       "    <tr>\n",
       "      <th>Floor</th>\n",
       "      <td>1.000000</td>\n",
       "      <td>0.161305</td>\n",
       "      <td>-0.083579</td>\n",
       "      <td>-0.014317</td>\n",
       "    </tr>\n",
       "    <tr>\n",
       "      <th>Number_of_rooms</th>\n",
       "      <td>0.161305</td>\n",
       "      <td>1.000000</td>\n",
       "      <td>0.003195</td>\n",
       "      <td>-0.012170</td>\n",
       "    </tr>\n",
       "    <tr>\n",
       "      <th>Price</th>\n",
       "      <td>-0.083579</td>\n",
       "      <td>0.003195</td>\n",
       "      <td>1.000000</td>\n",
       "      <td>0.050733</td>\n",
       "    </tr>\n",
       "    <tr>\n",
       "      <th>KvM_</th>\n",
       "      <td>-0.014317</td>\n",
       "      <td>-0.012170</td>\n",
       "      <td>0.050733</td>\n",
       "      <td>1.000000</td>\n",
       "    </tr>\n",
       "  </tbody>\n",
       "</table>\n",
       "</div>"
      ],
      "text/plain": [
       "                    Floor  Number_of_rooms     Price      KvM_\n",
       "Floor            1.000000         0.161305 -0.083579 -0.014317\n",
       "Number_of_rooms  0.161305         1.000000  0.003195 -0.012170\n",
       "Price           -0.083579         0.003195  1.000000  0.050733\n",
       "KvM_            -0.014317        -0.012170  0.050733  1.000000"
      ]
     },
     "execution_count": 325,
     "metadata": {},
     "output_type": "execute_result"
    }
   ],
   "source": [
    "df.corr()"
   ]
  },
  {
   "cell_type": "code",
   "execution_count": 326,
   "id": "fd6853dd",
   "metadata": {},
   "outputs": [
    {
     "data": {
      "image/png": "[encoded data removed]",
      "text/plain": [
       "<Figure size 432x288 with 1 Axes>"
      ]
     },
     "metadata": {
      "needs_background": "light"
     },
     "output_type": "display_data"
    }
   ],
   "source": [
    "import seaborn as sns\n",
    "sns.boxplot(x=df['Price']) \n",
    "price=df['Price']"
   ]
  },
  {
   "cell_type": "code",
   "execution_count": 327,
   "id": "e71036b7",
   "metadata": {},
   "outputs": [],
   "source": [
    "df1=df[df['Sale_Type']=='Satış']"
   ]
  },
  {
   "cell_type": "code",
   "execution_count": 328,
   "id": "e9a4f6e7",
   "metadata": {},
   "outputs": [
    {
     "data": {
      "text/html": [
       "<div>\n",
       "<style scoped>\n",
       "    .dataframe tbody tr th:only-of-type {\n",
       "        vertical-align: middle;\n",
       "    }\n",
       "\n",
       "    .dataframe tbody tr th {\n",
       "        vertical-align: top;\n",
       "    }\n",
       "\n",
       "    .dataframe thead th {\n",
       "        text-align: right;\n",
       "    }\n",
       "</style>\n",
       "<table border=\"1\" class=\"dataframe\">\n",
       "  <thead>\n",
       "    <tr style=\"text-align: right;\">\n",
       "      <th></th>\n",
       "      <th>Floor</th>\n",
       "      <th>Location</th>\n",
       "      <th>Number_of_rooms</th>\n",
       "      <th>Price</th>\n",
       "      <th>Sale_Type</th>\n",
       "      <th>KvM_</th>\n",
       "    </tr>\n",
       "  </thead>\n",
       "  <tbody>\n",
       "    <tr>\n",
       "      <th>3</th>\n",
       "      <td>0.0</td>\n",
       "      <td>Elmlər Akademiyası m.</td>\n",
       "      <td>0.0</td>\n",
       "      <td>2700000</td>\n",
       "      <td>Satış</td>\n",
       "      <td>530.0</td>\n",
       "    </tr>\n",
       "    <tr>\n",
       "      <th>4</th>\n",
       "      <td>4.0</td>\n",
       "      <td>Memar Əcəmi m.</td>\n",
       "      <td>2.0</td>\n",
       "      <td>87000</td>\n",
       "      <td>Satış</td>\n",
       "      <td>58.0</td>\n",
       "    </tr>\n",
       "    <tr>\n",
       "      <th>6</th>\n",
       "      <td>0.0</td>\n",
       "      <td>Nardaran q.</td>\n",
       "      <td>0.0</td>\n",
       "      <td>67000</td>\n",
       "      <td>Satış</td>\n",
       "      <td>12.0</td>\n",
       "    </tr>\n",
       "    <tr>\n",
       "      <th>8</th>\n",
       "      <td>0.0</td>\n",
       "      <td>Quba</td>\n",
       "      <td>0.0</td>\n",
       "      <td>420000</td>\n",
       "      <td>Satış</td>\n",
       "      <td>153.0</td>\n",
       "    </tr>\n",
       "    <tr>\n",
       "      <th>9</th>\n",
       "      <td>0.0</td>\n",
       "      <td>Masazır q.</td>\n",
       "      <td>4.0</td>\n",
       "      <td>80000</td>\n",
       "      <td>Satış</td>\n",
       "      <td>160.0</td>\n",
       "    </tr>\n",
       "    <tr>\n",
       "      <th>...</th>\n",
       "      <td>...</td>\n",
       "      <td>...</td>\n",
       "      <td>...</td>\n",
       "      <td>...</td>\n",
       "      <td>...</td>\n",
       "      <td>...</td>\n",
       "    </tr>\n",
       "    <tr>\n",
       "      <th>51717</th>\n",
       "      <td>3.0</td>\n",
       "      <td>Elmlər Akademiyası m.</td>\n",
       "      <td>3.0</td>\n",
       "      <td>275000</td>\n",
       "      <td>Satış</td>\n",
       "      <td>125.0</td>\n",
       "    </tr>\n",
       "    <tr>\n",
       "      <th>51718</th>\n",
       "      <td>5.0</td>\n",
       "      <td>Nərimanov r.</td>\n",
       "      <td>3.0</td>\n",
       "      <td>250000</td>\n",
       "      <td>Satış</td>\n",
       "      <td>120.0</td>\n",
       "    </tr>\n",
       "    <tr>\n",
       "      <th>51719</th>\n",
       "      <td>9.0</td>\n",
       "      <td>Həzi Aslanov m.</td>\n",
       "      <td>3.0</td>\n",
       "      <td>82000</td>\n",
       "      <td>Satış</td>\n",
       "      <td>65.0</td>\n",
       "    </tr>\n",
       "    <tr>\n",
       "      <th>51723</th>\n",
       "      <td>3.0</td>\n",
       "      <td>Nərimanov r.</td>\n",
       "      <td>3.0</td>\n",
       "      <td>215000</td>\n",
       "      <td>Satış</td>\n",
       "      <td>120.0</td>\n",
       "    </tr>\n",
       "    <tr>\n",
       "      <th>51725</th>\n",
       "      <td>10.0</td>\n",
       "      <td>Nəriman Nərimanov m.</td>\n",
       "      <td>3.0</td>\n",
       "      <td>274900</td>\n",
       "      <td>Satış</td>\n",
       "      <td>130.0</td>\n",
       "    </tr>\n",
       "  </tbody>\n",
       "</table>\n",
       "<p>35505 rows × 6 columns</p>\n",
       "</div>"
      ],
      "text/plain": [
       "       Floor               Location  Number_of_rooms    Price Sale_Type   KvM_\n",
       "3        0.0  Elmlər Akademiyası m.              0.0  2700000     Satış  530.0\n",
       "4        4.0         Memar Əcəmi m.              2.0    87000     Satış   58.0\n",
       "6        0.0            Nardaran q.              0.0    67000     Satış   12.0\n",
       "8        0.0                   Quba              0.0   420000     Satış  153.0\n",
       "9        0.0             Masazır q.              4.0    80000     Satış  160.0\n",
       "...      ...                    ...              ...      ...       ...    ...\n",
       "51717    3.0  Elmlər Akademiyası m.              3.0   275000     Satış  125.0\n",
       "51718    5.0           Nərimanov r.              3.0   250000     Satış  120.0\n",
       "51719    9.0        Həzi Aslanov m.              3.0    82000     Satış   65.0\n",
       "51723    3.0           Nərimanov r.              3.0   215000     Satış  120.0\n",
       "51725   10.0   Nəriman Nərimanov m.              3.0   274900     Satış  130.0\n",
       "\n",
       "[35505 rows x 6 columns]"
      ]
     },
     "execution_count": 328,
     "metadata": {},
     "output_type": "execute_result"
    }
   ],
   "source": [
    "df1"
   ]
  },
  {
   "cell_type": "code",
   "execution_count": 329,
   "id": "8390429e",
   "metadata": {},
   "outputs": [
    {
     "data": {
      "text/plain": [
       "<AxesSubplot:xlabel='Price'>"
      ]
     },
     "execution_count": 329,
     "metadata": {},
     "output_type": "execute_result"
    },
    {
     "data": {
      "image/png": "[encoded data removed]",
      "text/plain": [
       "<Figure size 432x288 with 1 Axes>"
      ]
     },
     "metadata": {
      "needs_background": "light"
     },
     "output_type": "display_data"
    }
   ],
   "source": [
    "sns.boxplot(x=df1['Price'])"
   ]
  },
  {
   "cell_type": "code",
   "execution_count": 330,
   "id": "c8e642b8",
   "metadata": {},
   "outputs": [],
   "source": [
    "Q1=price.quantile(0.25) \n",
    "Q3=price.quantile(0.75)\n",
    "IQR=Q3-Q1 "
   ]
  },
  {
   "cell_type": "code",
   "execution_count": 331,
   "id": "778c8e42",
   "metadata": {},
   "outputs": [
    {
     "data": {
      "text/plain": [
       "183000.0"
      ]
     },
     "execution_count": 331,
     "metadata": {},
     "output_type": "execute_result"
    }
   ],
   "source": [
    "IQR"
   ]
  },
  {
   "cell_type": "code",
   "execution_count": 332,
   "id": "1482d160",
   "metadata": {},
   "outputs": [
    {
     "data": {
      "text/plain": [
       "42000.0"
      ]
     },
     "execution_count": 332,
     "metadata": {},
     "output_type": "execute_result"
    }
   ],
   "source": [
    "Q1"
   ]
  },
  {
   "cell_type": "code",
   "execution_count": 333,
   "id": "8ff93308",
   "metadata": {},
   "outputs": [
    {
     "data": {
      "text/plain": [
       "225000.0"
      ]
     },
     "execution_count": 333,
     "metadata": {},
     "output_type": "execute_result"
    }
   ],
   "source": [
    "Q3"
   ]
  },
  {
   "cell_type": "code",
   "execution_count": 334,
   "id": "ea7df25d",
   "metadata": {},
   "outputs": [],
   "source": [
    "lower_limit=Q1-1.5*IQR\n",
    "upper_limit=Q3+1.5*IQR"
   ]
  },
  {
   "cell_type": "code",
   "execution_count": 335,
   "id": "2a7497fb",
   "metadata": {},
   "outputs": [
    {
     "data": {
      "text/plain": [
       "-232500.0"
      ]
     },
     "execution_count": 335,
     "metadata": {},
     "output_type": "execute_result"
    }
   ],
   "source": [
    "lower_limit"
   ]
  },
  {
   "cell_type": "code",
   "execution_count": 336,
   "id": "2c6d4b71",
   "metadata": {},
   "outputs": [
    {
     "data": {
      "text/plain": [
       "499500.0"
      ]
     },
     "execution_count": 336,
     "metadata": {},
     "output_type": "execute_result"
    }
   ],
   "source": [
    "upper_limit"
   ]
  },
  {
   "cell_type": "code",
   "execution_count": 337,
   "id": "e463eca3",
   "metadata": {},
   "outputs": [],
   "source": [
    "df1=df1[(df1['Price']<=upper_limit)&(df1['Price']>=Q1)]"
   ]
  },
  {
   "cell_type": "code",
   "execution_count": 338,
   "id": "660a7c6d",
   "metadata": {},
   "outputs": [
    {
     "data": {
      "text/html": [
       "<div>\n",
       "<style scoped>\n",
       "    .dataframe tbody tr th:only-of-type {\n",
       "        vertical-align: middle;\n",
       "    }\n",
       "\n",
       "    .dataframe tbody tr th {\n",
       "        vertical-align: top;\n",
       "    }\n",
       "\n",
       "    .dataframe thead th {\n",
       "        text-align: right;\n",
       "    }\n",
       "</style>\n",
       "<table border=\"1\" class=\"dataframe\">\n",
       "  <thead>\n",
       "    <tr style=\"text-align: right;\">\n",
       "      <th></th>\n",
       "      <th>Floor</th>\n",
       "      <th>Location</th>\n",
       "      <th>Number_of_rooms</th>\n",
       "      <th>Price</th>\n",
       "      <th>Sale_Type</th>\n",
       "      <th>KvM_</th>\n",
       "    </tr>\n",
       "  </thead>\n",
       "  <tbody>\n",
       "    <tr>\n",
       "      <th>4</th>\n",
       "      <td>4.0</td>\n",
       "      <td>Memar Əcəmi m.</td>\n",
       "      <td>2.0</td>\n",
       "      <td>87000</td>\n",
       "      <td>Satış</td>\n",
       "      <td>58.0</td>\n",
       "    </tr>\n",
       "    <tr>\n",
       "      <th>6</th>\n",
       "      <td>0.0</td>\n",
       "      <td>Nardaran q.</td>\n",
       "      <td>0.0</td>\n",
       "      <td>67000</td>\n",
       "      <td>Satış</td>\n",
       "      <td>12.0</td>\n",
       "    </tr>\n",
       "    <tr>\n",
       "      <th>8</th>\n",
       "      <td>0.0</td>\n",
       "      <td>Quba</td>\n",
       "      <td>0.0</td>\n",
       "      <td>420000</td>\n",
       "      <td>Satış</td>\n",
       "      <td>153.0</td>\n",
       "    </tr>\n",
       "    <tr>\n",
       "      <th>9</th>\n",
       "      <td>0.0</td>\n",
       "      <td>Masazır q.</td>\n",
       "      <td>4.0</td>\n",
       "      <td>80000</td>\n",
       "      <td>Satış</td>\n",
       "      <td>160.0</td>\n",
       "    </tr>\n",
       "    <tr>\n",
       "      <th>10</th>\n",
       "      <td>4.0</td>\n",
       "      <td>Xırdalan</td>\n",
       "      <td>2.0</td>\n",
       "      <td>52000</td>\n",
       "      <td>Satış</td>\n",
       "      <td>57.0</td>\n",
       "    </tr>\n",
       "    <tr>\n",
       "      <th>...</th>\n",
       "      <td>...</td>\n",
       "      <td>...</td>\n",
       "      <td>...</td>\n",
       "      <td>...</td>\n",
       "      <td>...</td>\n",
       "      <td>...</td>\n",
       "    </tr>\n",
       "    <tr>\n",
       "      <th>51717</th>\n",
       "      <td>3.0</td>\n",
       "      <td>Elmlər Akademiyası m.</td>\n",
       "      <td>3.0</td>\n",
       "      <td>275000</td>\n",
       "      <td>Satış</td>\n",
       "      <td>125.0</td>\n",
       "    </tr>\n",
       "    <tr>\n",
       "      <th>51718</th>\n",
       "      <td>5.0</td>\n",
       "      <td>Nərimanov r.</td>\n",
       "      <td>3.0</td>\n",
       "      <td>250000</td>\n",
       "      <td>Satış</td>\n",
       "      <td>120.0</td>\n",
       "    </tr>\n",
       "    <tr>\n",
       "      <th>51719</th>\n",
       "      <td>9.0</td>\n",
       "      <td>Həzi Aslanov m.</td>\n",
       "      <td>3.0</td>\n",
       "      <td>82000</td>\n",
       "      <td>Satış</td>\n",
       "      <td>65.0</td>\n",
       "    </tr>\n",
       "    <tr>\n",
       "      <th>51723</th>\n",
       "      <td>3.0</td>\n",
       "      <td>Nərimanov r.</td>\n",
       "      <td>3.0</td>\n",
       "      <td>215000</td>\n",
       "      <td>Satış</td>\n",
       "      <td>120.0</td>\n",
       "    </tr>\n",
       "    <tr>\n",
       "      <th>51725</th>\n",
       "      <td>10.0</td>\n",
       "      <td>Nəriman Nərimanov m.</td>\n",
       "      <td>3.0</td>\n",
       "      <td>274900</td>\n",
       "      <td>Satış</td>\n",
       "      <td>130.0</td>\n",
       "    </tr>\n",
       "  </tbody>\n",
       "</table>\n",
       "<p>30853 rows × 6 columns</p>\n",
       "</div>"
      ],
      "text/plain": [
       "       Floor               Location  Number_of_rooms   Price Sale_Type   KvM_\n",
       "4        4.0         Memar Əcəmi m.              2.0   87000     Satış   58.0\n",
       "6        0.0            Nardaran q.              0.0   67000     Satış   12.0\n",
       "8        0.0                   Quba              0.0  420000     Satış  153.0\n",
       "9        0.0             Masazır q.              4.0   80000     Satış  160.0\n",
       "10       4.0               Xırdalan              2.0   52000     Satış   57.0\n",
       "...      ...                    ...              ...     ...       ...    ...\n",
       "51717    3.0  Elmlər Akademiyası m.              3.0  275000     Satış  125.0\n",
       "51718    5.0           Nərimanov r.              3.0  250000     Satış  120.0\n",
       "51719    9.0        Həzi Aslanov m.              3.0   82000     Satış   65.0\n",
       "51723    3.0           Nərimanov r.              3.0  215000     Satış  120.0\n",
       "51725   10.0   Nəriman Nərimanov m.              3.0  274900     Satış  130.0\n",
       "\n",
       "[30853 rows x 6 columns]"
      ]
     },
     "execution_count": 338,
     "metadata": {},
     "output_type": "execute_result"
    }
   ],
   "source": [
    "df1"
   ]
  },
  {
   "cell_type": "code",
   "execution_count": 339,
   "id": "d26550fc",
   "metadata": {},
   "outputs": [],
   "source": [
    "kvm_=df['KvM_']"
   ]
  },
  {
   "cell_type": "code",
   "execution_count": 340,
   "id": "f46cf29a",
   "metadata": {},
   "outputs": [],
   "source": [
    "Q1=kvm_.quantile(0.25) \n",
    "Q3=kvm_.quantile(0.75)\n",
    "IQR=Q3-Q1 "
   ]
  },
  {
   "cell_type": "code",
   "execution_count": 341,
   "id": "1d1b9107",
   "metadata": {},
   "outputs": [
    {
     "data": {
      "text/plain": [
       "85.0"
      ]
     },
     "execution_count": 341,
     "metadata": {},
     "output_type": "execute_result"
    }
   ],
   "source": [
    "IQR"
   ]
  },
  {
   "cell_type": "code",
   "execution_count": 342,
   "id": "9c940a25",
   "metadata": {},
   "outputs": [
    {
     "data": {
      "text/plain": [
       "70.0"
      ]
     },
     "execution_count": 342,
     "metadata": {},
     "output_type": "execute_result"
    }
   ],
   "source": [
    "Q1"
   ]
  },
  {
   "cell_type": "code",
   "execution_count": 343,
   "id": "85eb9bb1",
   "metadata": {},
   "outputs": [
    {
     "data": {
      "text/plain": [
       "155.0"
      ]
     },
     "execution_count": 343,
     "metadata": {},
     "output_type": "execute_result"
    }
   ],
   "source": [
    "Q3"
   ]
  },
  {
   "cell_type": "code",
   "execution_count": 344,
   "id": "0340c5cc",
   "metadata": {},
   "outputs": [],
   "source": [
    "lower_limit_kvm=Q1-1.5*IQR\n",
    "upper_limit_kvm=Q3+1.5*IQR"
   ]
  },
  {
   "cell_type": "code",
   "execution_count": 345,
   "id": "52eb3932",
   "metadata": {},
   "outputs": [
    {
     "data": {
      "text/plain": [
       "-57.5"
      ]
     },
     "execution_count": 345,
     "metadata": {},
     "output_type": "execute_result"
    }
   ],
   "source": [
    "lower_limit_kvm"
   ]
  },
  {
   "cell_type": "code",
   "execution_count": 346,
   "id": "3b2e835c",
   "metadata": {},
   "outputs": [
    {
     "data": {
      "text/plain": [
       "282.5"
      ]
     },
     "execution_count": 346,
     "metadata": {},
     "output_type": "execute_result"
    }
   ],
   "source": [
    "upper_limit_kvm"
   ]
  },
  {
   "cell_type": "code",
   "execution_count": 347,
   "id": "e62adb40",
   "metadata": {},
   "outputs": [],
   "source": [
    "df1=df1[df1['KvM_']<=upper_limit_kvm]"
   ]
  },
  {
   "cell_type": "code",
   "execution_count": 348,
   "id": "84b98195",
   "metadata": {},
   "outputs": [
    {
     "data": {
      "text/html": [
       "<div>\n",
       "<style scoped>\n",
       "    .dataframe tbody tr th:only-of-type {\n",
       "        vertical-align: middle;\n",
       "    }\n",
       "\n",
       "    .dataframe tbody tr th {\n",
       "        vertical-align: top;\n",
       "    }\n",
       "\n",
       "    .dataframe thead th {\n",
       "        text-align: right;\n",
       "    }\n",
       "</style>\n",
       "<table border=\"1\" class=\"dataframe\">\n",
       "  <thead>\n",
       "    <tr style=\"text-align: right;\">\n",
       "      <th></th>\n",
       "      <th>Floor</th>\n",
       "      <th>Location</th>\n",
       "      <th>Number_of_rooms</th>\n",
       "      <th>Price</th>\n",
       "      <th>Sale_Type</th>\n",
       "      <th>KvM_</th>\n",
       "    </tr>\n",
       "  </thead>\n",
       "  <tbody>\n",
       "    <tr>\n",
       "      <th>4</th>\n",
       "      <td>4.0</td>\n",
       "      <td>Memar Əcəmi m.</td>\n",
       "      <td>2.0</td>\n",
       "      <td>87000</td>\n",
       "      <td>Satış</td>\n",
       "      <td>58.0</td>\n",
       "    </tr>\n",
       "    <tr>\n",
       "      <th>6</th>\n",
       "      <td>0.0</td>\n",
       "      <td>Nardaran q.</td>\n",
       "      <td>0.0</td>\n",
       "      <td>67000</td>\n",
       "      <td>Satış</td>\n",
       "      <td>12.0</td>\n",
       "    </tr>\n",
       "    <tr>\n",
       "      <th>8</th>\n",
       "      <td>0.0</td>\n",
       "      <td>Quba</td>\n",
       "      <td>0.0</td>\n",
       "      <td>420000</td>\n",
       "      <td>Satış</td>\n",
       "      <td>153.0</td>\n",
       "    </tr>\n",
       "    <tr>\n",
       "      <th>9</th>\n",
       "      <td>0.0</td>\n",
       "      <td>Masazır q.</td>\n",
       "      <td>4.0</td>\n",
       "      <td>80000</td>\n",
       "      <td>Satış</td>\n",
       "      <td>160.0</td>\n",
       "    </tr>\n",
       "    <tr>\n",
       "      <th>10</th>\n",
       "      <td>4.0</td>\n",
       "      <td>Xırdalan</td>\n",
       "      <td>2.0</td>\n",
       "      <td>52000</td>\n",
       "      <td>Satış</td>\n",
       "      <td>57.0</td>\n",
       "    </tr>\n",
       "    <tr>\n",
       "      <th>...</th>\n",
       "      <td>...</td>\n",
       "      <td>...</td>\n",
       "      <td>...</td>\n",
       "      <td>...</td>\n",
       "      <td>...</td>\n",
       "      <td>...</td>\n",
       "    </tr>\n",
       "    <tr>\n",
       "      <th>51717</th>\n",
       "      <td>3.0</td>\n",
       "      <td>Elmlər Akademiyası m.</td>\n",
       "      <td>3.0</td>\n",
       "      <td>275000</td>\n",
       "      <td>Satış</td>\n",
       "      <td>125.0</td>\n",
       "    </tr>\n",
       "    <tr>\n",
       "      <th>51718</th>\n",
       "      <td>5.0</td>\n",
       "      <td>Nərimanov r.</td>\n",
       "      <td>3.0</td>\n",
       "      <td>250000</td>\n",
       "      <td>Satış</td>\n",
       "      <td>120.0</td>\n",
       "    </tr>\n",
       "    <tr>\n",
       "      <th>51719</th>\n",
       "      <td>9.0</td>\n",
       "      <td>Həzi Aslanov m.</td>\n",
       "      <td>3.0</td>\n",
       "      <td>82000</td>\n",
       "      <td>Satış</td>\n",
       "      <td>65.0</td>\n",
       "    </tr>\n",
       "    <tr>\n",
       "      <th>51723</th>\n",
       "      <td>3.0</td>\n",
       "      <td>Nərimanov r.</td>\n",
       "      <td>3.0</td>\n",
       "      <td>215000</td>\n",
       "      <td>Satış</td>\n",
       "      <td>120.0</td>\n",
       "    </tr>\n",
       "    <tr>\n",
       "      <th>51725</th>\n",
       "      <td>10.0</td>\n",
       "      <td>Nəriman Nərimanov m.</td>\n",
       "      <td>3.0</td>\n",
       "      <td>274900</td>\n",
       "      <td>Satış</td>\n",
       "      <td>130.0</td>\n",
       "    </tr>\n",
       "  </tbody>\n",
       "</table>\n",
       "<p>29786 rows × 6 columns</p>\n",
       "</div>"
      ],
      "text/plain": [
       "       Floor               Location  Number_of_rooms   Price Sale_Type   KvM_\n",
       "4        4.0         Memar Əcəmi m.              2.0   87000     Satış   58.0\n",
       "6        0.0            Nardaran q.              0.0   67000     Satış   12.0\n",
       "8        0.0                   Quba              0.0  420000     Satış  153.0\n",
       "9        0.0             Masazır q.              4.0   80000     Satış  160.0\n",
       "10       4.0               Xırdalan              2.0   52000     Satış   57.0\n",
       "...      ...                    ...              ...     ...       ...    ...\n",
       "51717    3.0  Elmlər Akademiyası m.              3.0  275000     Satış  125.0\n",
       "51718    5.0           Nərimanov r.              3.0  250000     Satış  120.0\n",
       "51719    9.0        Həzi Aslanov m.              3.0   82000     Satış   65.0\n",
       "51723    3.0           Nərimanov r.              3.0  215000     Satış  120.0\n",
       "51725   10.0   Nəriman Nərimanov m.              3.0  274900     Satış  130.0\n",
       "\n",
       "[29786 rows x 6 columns]"
      ]
     },
     "execution_count": 348,
     "metadata": {},
     "output_type": "execute_result"
    }
   ],
   "source": [
    "df1"
   ]
  },
  {
   "cell_type": "code",
   "execution_count": 349,
   "id": "25bcecde",
   "metadata": {},
   "outputs": [],
   "source": [
    "number_rooms=df1['Number_of_rooms']"
   ]
  },
  {
   "cell_type": "code",
   "execution_count": 350,
   "id": "643130a0",
   "metadata": {},
   "outputs": [],
   "source": [
    "Q1=number_rooms.quantile(0.25) \n",
    "Q3=number_rooms.quantile(0.75)\n",
    "IQR=Q3-Q1 "
   ]
  },
  {
   "cell_type": "code",
   "execution_count": 351,
   "id": "5649ce8f",
   "metadata": {},
   "outputs": [
    {
     "data": {
      "text/plain": [
       "1.0"
      ]
     },
     "execution_count": 351,
     "metadata": {},
     "output_type": "execute_result"
    }
   ],
   "source": [
    "IQR"
   ]
  },
  {
   "cell_type": "code",
   "execution_count": 352,
   "id": "93fffcc9",
   "metadata": {},
   "outputs": [
    {
     "data": {
      "text/plain": [
       "2.0"
      ]
     },
     "execution_count": 352,
     "metadata": {},
     "output_type": "execute_result"
    }
   ],
   "source": [
    "Q1"
   ]
  },
  {
   "cell_type": "code",
   "execution_count": 353,
   "id": "7418b222",
   "metadata": {},
   "outputs": [
    {
     "data": {
      "text/plain": [
       "3.0"
      ]
     },
     "execution_count": 353,
     "metadata": {},
     "output_type": "execute_result"
    }
   ],
   "source": [
    "Q3"
   ]
  },
  {
   "cell_type": "code",
   "execution_count": 354,
   "id": "9c3e3ed0",
   "metadata": {},
   "outputs": [],
   "source": [
    "lower_limit_rooms=Q1-1.5*IQR\n",
    "upper_limit_rooms=Q3+1.5*IQR"
   ]
  },
  {
   "cell_type": "code",
   "execution_count": 355,
   "id": "3d249cf7",
   "metadata": {},
   "outputs": [
    {
     "data": {
      "text/plain": [
       "0.5"
      ]
     },
     "execution_count": 355,
     "metadata": {},
     "output_type": "execute_result"
    }
   ],
   "source": [
    "lower_limit_rooms"
   ]
  },
  {
   "cell_type": "code",
   "execution_count": 356,
   "id": "4a62eba5",
   "metadata": {},
   "outputs": [],
   "source": [
    "upper_limit_rooms=round(upper_limit_rooms)\n"
   ]
  },
  {
   "cell_type": "code",
   "execution_count": 357,
   "id": "eb743a35",
   "metadata": {},
   "outputs": [],
   "source": [
    "df1=df1[df1['Number_of_rooms']<=upper_limit_rooms]"
   ]
  },
  {
   "cell_type": "code",
   "execution_count": 358,
   "id": "bbebfe9c",
   "metadata": {},
   "outputs": [
    {
     "data": {
      "text/html": [
       "<div>\n",
       "<style scoped>\n",
       "    .dataframe tbody tr th:only-of-type {\n",
       "        vertical-align: middle;\n",
       "    }\n",
       "\n",
       "    .dataframe tbody tr th {\n",
       "        vertical-align: top;\n",
       "    }\n",
       "\n",
       "    .dataframe thead th {\n",
       "        text-align: right;\n",
       "    }\n",
       "</style>\n",
       "<table border=\"1\" class=\"dataframe\">\n",
       "  <thead>\n",
       "    <tr style=\"text-align: right;\">\n",
       "      <th></th>\n",
       "      <th>Floor</th>\n",
       "      <th>Number_of_rooms</th>\n",
       "      <th>Price</th>\n",
       "      <th>KvM_</th>\n",
       "    </tr>\n",
       "  </thead>\n",
       "  <tbody>\n",
       "    <tr>\n",
       "      <th>Floor</th>\n",
       "      <td>1.000000</td>\n",
       "      <td>0.311088</td>\n",
       "      <td>0.111674</td>\n",
       "      <td>0.072412</td>\n",
       "    </tr>\n",
       "    <tr>\n",
       "      <th>Number_of_rooms</th>\n",
       "      <td>0.311088</td>\n",
       "      <td>1.000000</td>\n",
       "      <td>0.134552</td>\n",
       "      <td>0.308222</td>\n",
       "    </tr>\n",
       "    <tr>\n",
       "      <th>Price</th>\n",
       "      <td>0.111674</td>\n",
       "      <td>0.134552</td>\n",
       "      <td>1.000000</td>\n",
       "      <td>0.682385</td>\n",
       "    </tr>\n",
       "    <tr>\n",
       "      <th>KvM_</th>\n",
       "      <td>0.072412</td>\n",
       "      <td>0.308222</td>\n",
       "      <td>0.682385</td>\n",
       "      <td>1.000000</td>\n",
       "    </tr>\n",
       "  </tbody>\n",
       "</table>\n",
       "</div>"
      ],
      "text/plain": [
       "                    Floor  Number_of_rooms     Price      KvM_\n",
       "Floor            1.000000         0.311088  0.111674  0.072412\n",
       "Number_of_rooms  0.311088         1.000000  0.134552  0.308222\n",
       "Price            0.111674         0.134552  1.000000  0.682385\n",
       "KvM_             0.072412         0.308222  0.682385  1.000000"
      ]
     },
     "execution_count": 358,
     "metadata": {},
     "output_type": "execute_result"
    }
   ],
   "source": [
    "df1.corr()"
   ]
  },
  {
   "cell_type": "code",
   "execution_count": null,
   "id": "319ce06b",
   "metadata": {},
   "outputs": [],
   "source": []
  },
  {
   "cell_type": "code",
   "execution_count": null,
   "id": "ba995c30",
   "metadata": {},
   "outputs": [],
   "source": []
  },
  {
   "cell_type": "code",
   "execution_count": null,
   "id": "b949f5c2",
   "metadata": {},
   "outputs": [],
   "source": []
  },
  {
   "cell_type": "code",
   "execution_count": null,
   "id": "027e3ca3",
   "metadata": {},
   "outputs": [],
   "source": []
  },
  {
   "cell_type": "markdown",
   "id": "21ba55bc",
   "metadata": {},
   "source": [
    "#### Data Modelling\n"
   ]
  },
  {
   "cell_type": "code",
   "execution_count": 359,
   "id": "5c0cdd81",
   "metadata": {},
   "outputs": [],
   "source": [
    "from sklearn.model_selection import train_test_split, GridSearchCV,cross_val_score\n",
    "from sklearn.metrics import mean_squared_error, r2_score\n",
    "from sklearn.tree import DecisionTreeRegressor\n",
    "from sklearn.neighbors import KNeighborsRegressor\n",
    "from sklearn.ensemble import BaggingRegressor\n",
    "from sklearn.ensemble import RandomForestRegressor\n",
    "from xgboost import XGBRegressor\n",
    "from sklearn.ensemble import GradientBoostingRegressor\n",
    "from lightgbm import LGBMRegressor\n",
    "from catboost import CatBoostRegressor\n",
    "from sklearn.preprocessing import LabelEncoder"
   ]
  },
  {
   "cell_type": "code",
   "execution_count": 360,
   "id": "d7953291",
   "metadata": {},
   "outputs": [],
   "source": [
    "encoder=LabelEncoder()"
   ]
  },
  {
   "cell_type": "code",
   "execution_count": 361,
   "id": "6283da7c",
   "metadata": {},
   "outputs": [
    {
     "name": "stderr",
     "output_type": "stream",
     "text": [
      "<ipython-input-361-57415ea8ebdf>:1: SettingWithCopyWarning: \n",
      "A value is trying to be set on a copy of a slice from a DataFrame.\n",
      "Try using .loc[row_indexer,col_indexer] = value instead\n",
      "\n",
      "See the caveats in the documentation: https://pandas.pydata.org/pandas-docs/stable/user_guide/indexing.html#returning-a-view-versus-a-copy\n",
      "  df1['Sale_Type_encoder']=encoder.fit_transform(df1['Sale_Type'])\n",
      "<ipython-input-361-57415ea8ebdf>:2: SettingWithCopyWarning: \n",
      "A value is trying to be set on a copy of a slice from a DataFrame.\n",
      "Try using .loc[row_indexer,col_indexer] = value instead\n",
      "\n",
      "See the caveats in the documentation: https://pandas.pydata.org/pandas-docs/stable/user_guide/indexing.html#returning-a-view-versus-a-copy\n",
      "  df1['Location_encoder']=encoder.fit_transform(df1['Location'])\n"
     ]
    }
   ],
   "source": [
    "df1['Sale_Type_encoder']=encoder.fit_transform(df1['Sale_Type'])\n",
    "df1['Location_encoder']=encoder.fit_transform(df1['Location'])\n"
   ]
  },
  {
   "cell_type": "code",
   "execution_count": 362,
   "id": "3659303e",
   "metadata": {},
   "outputs": [
    {
     "data": {
      "text/html": [
       "<div>\n",
       "<style scoped>\n",
       "    .dataframe tbody tr th:only-of-type {\n",
       "        vertical-align: middle;\n",
       "    }\n",
       "\n",
       "    .dataframe tbody tr th {\n",
       "        vertical-align: top;\n",
       "    }\n",
       "\n",
       "    .dataframe thead th {\n",
       "        text-align: right;\n",
       "    }\n",
       "</style>\n",
       "<table border=\"1\" class=\"dataframe\">\n",
       "  <thead>\n",
       "    <tr style=\"text-align: right;\">\n",
       "      <th></th>\n",
       "      <th>Floor</th>\n",
       "      <th>Location</th>\n",
       "      <th>Number_of_rooms</th>\n",
       "      <th>Price</th>\n",
       "      <th>Sale_Type</th>\n",
       "      <th>KvM_</th>\n",
       "      <th>Sale_Type_encoder</th>\n",
       "      <th>Location_encoder</th>\n",
       "    </tr>\n",
       "  </thead>\n",
       "  <tbody>\n",
       "    <tr>\n",
       "      <th>4</th>\n",
       "      <td>4.0</td>\n",
       "      <td>Memar Əcəmi m.</td>\n",
       "      <td>2.0</td>\n",
       "      <td>87000</td>\n",
       "      <td>Satış</td>\n",
       "      <td>58.0</td>\n",
       "      <td>0</td>\n",
       "      <td>66</td>\n",
       "    </tr>\n",
       "    <tr>\n",
       "      <th>6</th>\n",
       "      <td>0.0</td>\n",
       "      <td>Nardaran q.</td>\n",
       "      <td>0.0</td>\n",
       "      <td>67000</td>\n",
       "      <td>Satış</td>\n",
       "      <td>12.0</td>\n",
       "      <td>0</td>\n",
       "      <td>72</td>\n",
       "    </tr>\n",
       "    <tr>\n",
       "      <th>8</th>\n",
       "      <td>0.0</td>\n",
       "      <td>Quba</td>\n",
       "      <td>0.0</td>\n",
       "      <td>420000</td>\n",
       "      <td>Satış</td>\n",
       "      <td>153.0</td>\n",
       "      <td>0</td>\n",
       "      <td>93</td>\n",
       "    </tr>\n",
       "    <tr>\n",
       "      <th>9</th>\n",
       "      <td>0.0</td>\n",
       "      <td>Masazır q.</td>\n",
       "      <td>4.0</td>\n",
       "      <td>80000</td>\n",
       "      <td>Satış</td>\n",
       "      <td>160.0</td>\n",
       "      <td>0</td>\n",
       "      <td>59</td>\n",
       "    </tr>\n",
       "    <tr>\n",
       "      <th>10</th>\n",
       "      <td>4.0</td>\n",
       "      <td>Xırdalan</td>\n",
       "      <td>2.0</td>\n",
       "      <td>52000</td>\n",
       "      <td>Satış</td>\n",
       "      <td>57.0</td>\n",
       "      <td>0</td>\n",
       "      <td>119</td>\n",
       "    </tr>\n",
       "    <tr>\n",
       "      <th>...</th>\n",
       "      <td>...</td>\n",
       "      <td>...</td>\n",
       "      <td>...</td>\n",
       "      <td>...</td>\n",
       "      <td>...</td>\n",
       "      <td>...</td>\n",
       "      <td>...</td>\n",
       "      <td>...</td>\n",
       "    </tr>\n",
       "    <tr>\n",
       "      <th>51717</th>\n",
       "      <td>3.0</td>\n",
       "      <td>Elmlər Akademiyası m.</td>\n",
       "      <td>3.0</td>\n",
       "      <td>275000</td>\n",
       "      <td>Satış</td>\n",
       "      <td>125.0</td>\n",
       "      <td>0</td>\n",
       "      <td>35</td>\n",
       "    </tr>\n",
       "    <tr>\n",
       "      <th>51718</th>\n",
       "      <td>5.0</td>\n",
       "      <td>Nərimanov r.</td>\n",
       "      <td>3.0</td>\n",
       "      <td>250000</td>\n",
       "      <td>Satış</td>\n",
       "      <td>120.0</td>\n",
       "      <td>0</td>\n",
       "      <td>79</td>\n",
       "    </tr>\n",
       "    <tr>\n",
       "      <th>51719</th>\n",
       "      <td>9.0</td>\n",
       "      <td>Həzi Aslanov m.</td>\n",
       "      <td>3.0</td>\n",
       "      <td>82000</td>\n",
       "      <td>Satış</td>\n",
       "      <td>65.0</td>\n",
       "      <td>0</td>\n",
       "      <td>46</td>\n",
       "    </tr>\n",
       "    <tr>\n",
       "      <th>51723</th>\n",
       "      <td>3.0</td>\n",
       "      <td>Nərimanov r.</td>\n",
       "      <td>3.0</td>\n",
       "      <td>215000</td>\n",
       "      <td>Satış</td>\n",
       "      <td>120.0</td>\n",
       "      <td>0</td>\n",
       "      <td>79</td>\n",
       "    </tr>\n",
       "    <tr>\n",
       "      <th>51725</th>\n",
       "      <td>10.0</td>\n",
       "      <td>Nəriman Nərimanov m.</td>\n",
       "      <td>3.0</td>\n",
       "      <td>274900</td>\n",
       "      <td>Satış</td>\n",
       "      <td>130.0</td>\n",
       "      <td>0</td>\n",
       "      <td>78</td>\n",
       "    </tr>\n",
       "  </tbody>\n",
       "</table>\n",
       "<p>28280 rows × 8 columns</p>\n",
       "</div>"
      ],
      "text/plain": [
       "       Floor               Location  Number_of_rooms   Price Sale_Type   KvM_  \\\n",
       "4        4.0         Memar Əcəmi m.              2.0   87000     Satış   58.0   \n",
       "6        0.0            Nardaran q.              0.0   67000     Satış   12.0   \n",
       "8        0.0                   Quba              0.0  420000     Satış  153.0   \n",
       "9        0.0             Masazır q.              4.0   80000     Satış  160.0   \n",
       "10       4.0               Xırdalan              2.0   52000     Satış   57.0   \n",
       "...      ...                    ...              ...     ...       ...    ...   \n",
       "51717    3.0  Elmlər Akademiyası m.              3.0  275000     Satış  125.0   \n",
       "51718    5.0           Nərimanov r.              3.0  250000     Satış  120.0   \n",
       "51719    9.0        Həzi Aslanov m.              3.0   82000     Satış   65.0   \n",
       "51723    3.0           Nərimanov r.              3.0  215000     Satış  120.0   \n",
       "51725   10.0   Nəriman Nərimanov m.              3.0  274900     Satış  130.0   \n",
       "\n",
       "       Sale_Type_encoder  Location_encoder  \n",
       "4                      0                66  \n",
       "6                      0                72  \n",
       "8                      0                93  \n",
       "9                      0                59  \n",
       "10                     0               119  \n",
       "...                  ...               ...  \n",
       "51717                  0                35  \n",
       "51718                  0                79  \n",
       "51719                  0                46  \n",
       "51723                  0                79  \n",
       "51725                  0                78  \n",
       "\n",
       "[28280 rows x 8 columns]"
      ]
     },
     "execution_count": 362,
     "metadata": {},
     "output_type": "execute_result"
    }
   ],
   "source": [
    "df1"
   ]
  },
  {
   "cell_type": "code",
   "execution_count": 363,
   "id": "e8bb255e",
   "metadata": {},
   "outputs": [],
   "source": [
    "X=df1.loc[:,['Floor','Number_of_rooms','Sale_Type_encoder','Location_encoder','KvM_']].values\n",
    "Y=df1['Price'].values"
   ]
  },
  {
   "cell_type": "code",
   "execution_count": 364,
   "id": "eff40290",
   "metadata": {},
   "outputs": [],
   "source": [
    "X_train,X_test,Y_train,Y_test=train_test_split(X,Y,test_size=0.2,random_state=10)"
   ]
  },
  {
   "cell_type": "code",
   "execution_count": 365,
   "id": "2d06af7f",
   "metadata": {},
   "outputs": [],
   "source": [
    "rf=RandomForestRegressor().fit(X_train,Y_train)\n",
    "\n",
    "tree=DecisionTreeRegressor().fit(X_train,Y_train)\n",
    "\n",
    "knn=KNeighborsRegressor().fit(X_train,Y_train)\n",
    "\n",
    "bagging=BaggingRegressor().fit(X_train,Y_train)\n",
    "\n",
    "xgb=XGBRegressor().fit(X_train,Y_train)\n",
    "\n",
    "gbm=GradientBoostingRegressor().fit(X_train,Y_train)\n",
    "\n",
    "lgbm=LGBMRegressor().fit(X_train,Y_train)\n",
    "\n",
    "cat=CatBoostRegressor(verbose=False).fit(X_train,Y_train)"
   ]
  },
  {
   "cell_type": "code",
   "execution_count": 366,
   "id": "bba67307",
   "metadata": {},
   "outputs": [
    {
     "name": "stdout",
     "output_type": "stream",
     "text": [
      "----------------------------\n",
      "KNeighborsRegressor:\n",
      "Accuracy: 69.4399%\n",
      "----------------------------\n",
      "RandomForestRegressor:\n",
      "Accuracy: 75.5501%\n",
      "----------------------------\n",
      "GradientBoostingRegressor:\n",
      "Accuracy: 70.0133%\n",
      "----------------------------\n",
      "CatBoostRegressor:\n",
      "Accuracy: 75.5297%\n",
      "----------------------------\n",
      "LGBMRegressor:\n",
      "Accuracy: 74.6432%\n",
      "----------------------------\n",
      "XGBRegressor:\n",
      "Accuracy: 76.3915%\n",
      "----------------------------\n",
      "DecisionTreeRegressor:\n",
      "Accuracy: 65.8269%\n",
      "----------------------------\n",
      "BaggingRegressor:\n",
      "Accuracy: 74.1121%\n"
     ]
    }
   ],
   "source": [
    "modeller = [\n",
    "    knn,\n",
    "    rf,\n",
    "    gbm,\n",
    "    cat,\n",
    "    lgbm,\n",
    "    xgb,\n",
    "    tree,\n",
    "    bagging\n",
    "    \n",
    "]\n",
    "for model in modeller:\n",
    "    adlar = model.__class__.__name__\n",
    "    y_pred = model.predict(X_test)\n",
    "    dogruluq = r2_score(Y_test, y_pred)\n",
    "    print(\"-\"*28)\n",
    "    print(adlar + \":\" )\n",
    "    print(\"Accuracy: {:.4%}\".format(dogruluq))"
   ]
  },
  {
   "cell_type": "code",
   "execution_count": 367,
   "id": "5c00c53c",
   "metadata": {},
   "outputs": [],
   "source": [
    "params={'verbose':False}\n",
    "rf_cv=cross_val_score(X = X_train,y = Y_train, estimator = rf, cv = 10)\n",
    "\n",
    "tree_cv=cross_val_score(X = X_train,y = Y_train, estimator = tree, cv = 10)\n",
    "\n",
    "knn_cv=cross_val_score(X = X_train,y = Y_train, estimator = knn, cv = 10)\n",
    "\n",
    "bagging_cv=cross_val_score(X = X_train,y = Y_train, estimator = bagging, cv = 10)\n",
    "\n",
    "xgb_cv=cross_val_score(X = X_train,y = Y_train, estimator = xgb, cv = 10)\n",
    "\n",
    "gbm_cv=cross_val_score(X = X_train,y = Y_train, estimator = gbm, cv = 10)\n",
    "\n",
    "lgbm_cv=cross_val_score(X = X_train,y = Y_train, estimator = lgbm, cv = 10)\n",
    "\n",
    "cat_cv=cross_val_score(X = X_train,y = Y_train, estimator = cat, cv = 10,fit_params=params);"
   ]
  },
  {
   "cell_type": "code",
   "execution_count": 368,
   "id": "536cb52e",
   "metadata": {},
   "outputs": [
    {
     "name": "stdout",
     "output_type": "stream",
     "text": [
      "0.6898105921803384\n",
      "0.7535255882202962\n",
      "0.7065261291460659\n",
      "0.7671125279930392\n",
      "0.7589984646154845\n",
      "0.7691542018419228\n",
      "0.6441029611734098\n",
      "0.7403349464446066\n"
     ]
    }
   ],
   "source": [
    "print(knn_cv.mean())\n",
    "print(rf_cv.mean())\n",
    "print(gbm_cv.mean())\n",
    "print(cat_cv.mean())\n",
    "print(lgbm_cv.mean())\n",
    "print(xgb_cv.mean())\n",
    "print(tree_cv.mean())\n",
    "print(bagging_cv.mean())"
   ]
  },
  {
   "cell_type": "code",
   "execution_count": 254,
   "id": "b6ba4310",
   "metadata": {},
   "outputs": [],
   "source": [
    "xgb_grid = {\n",
    "     'colsample_bytree': [0.4, 0.5,0.6,0.9,1], \n",
    "     'n_estimators':[100, 200, 500, 1000],\n",
    "     'max_depth': [2,3,4,5,6],\n",
    "     'learning_rate': [0.1, 0.01, 0.5]\n",
    "}\n"
   ]
  },
  {
   "cell_type": "code",
   "execution_count": 255,
   "id": "e3f0afb2",
   "metadata": {},
   "outputs": [
    {
     "name": "stdout",
     "output_type": "stream",
     "text": [
      "Fitting 10 folds for each of 300 candidates, totalling 3000 fits\n"
     ]
    },
    {
     "data": {
      "text/plain": [
       "GridSearchCV(cv=10,\n",
       "             estimator=XGBRegressor(base_score=None, booster=None,\n",
       "                                    colsample_bylevel=None,\n",
       "                                    colsample_bynode=None,\n",
       "                                    colsample_bytree=None,\n",
       "                                    enable_categorical=False, gamma=None,\n",
       "                                    gpu_id=None, importance_type=None,\n",
       "                                    interaction_constraints=None,\n",
       "                                    learning_rate=None, max_delta_step=None,\n",
       "                                    max_depth=None, min_child_weight=None,\n",
       "                                    missing=nan, monotone_constraints=None,\n",
       "                                    n_estimators=100, n_jobs=None,\n",
       "                                    num_parallel_tree=None, predictor=None,\n",
       "                                    random_state=None, reg_alpha=None,\n",
       "                                    reg_lambda=None, scale_pos_weight=None,\n",
       "                                    subsample=None, tree_method=None,\n",
       "                                    validate_parameters=None, verbosity=None),\n",
       "             n_jobs=-1,\n",
       "             param_grid={'colsample_bytree': [0.4, 0.5, 0.6, 0.9, 1],\n",
       "                         'learning_rate': [0.1, 0.01, 0.5],\n",
       "                         'max_depth': [2, 3, 4, 5, 6],\n",
       "                         'n_estimators': [100, 200, 500, 1000]},\n",
       "             verbose=2)"
      ]
     },
     "execution_count": 255,
     "metadata": {},
     "output_type": "execute_result"
    }
   ],
   "source": [
    "xgb = XGBRegressor()\n",
    "\n",
    "xgb_cv = GridSearchCV(xgb, \n",
    "                      param_grid = xgb_grid, \n",
    "                      cv = 10, \n",
    "                      n_jobs = -1,\n",
    "                      verbose = 2)\n",
    "\n",
    "\n",
    "xgb_cv.fit(X_train, Y_train)"
   ]
  },
  {
   "cell_type": "code",
   "execution_count": 257,
   "id": "f630ebcb",
   "metadata": {},
   "outputs": [
    {
     "data": {
      "text/plain": [
       "{'colsample_bytree': 0.9,\n",
       " 'learning_rate': 0.1,\n",
       " 'max_depth': 6,\n",
       " 'n_estimators': 500}"
      ]
     },
     "execution_count": 257,
     "metadata": {},
     "output_type": "execute_result"
    }
   ],
   "source": [
    "xgb_cv.best_params_"
   ]
  },
  {
   "cell_type": "code",
   "execution_count": 369,
   "id": "836c4446",
   "metadata": {},
   "outputs": [],
   "source": [
    "xgb_tuned = XGBRegressor(colsample_bytree = 0.9, \n",
    "                         learning_rate = 0.1, \n",
    "                         max_depth = 6, \n",
    "                         n_estimators = 500) \n",
    "\n",
    "xgb_tuned = xgb_tuned.fit(X_train,Y_train)\n",
    "y_pred = xgb_tuned.predict(X_test)"
   ]
  },
  {
   "cell_type": "code",
   "execution_count": 370,
   "id": "15a5b673",
   "metadata": {},
   "outputs": [
    {
     "data": {
      "text/plain": [
       "0.770036347829822"
      ]
     },
     "execution_count": 370,
     "metadata": {},
     "output_type": "execute_result"
    }
   ],
   "source": [
    "r2_score(Y_test,y_pred)"
   ]
  },
  {
   "cell_type": "code",
   "execution_count": 371,
   "id": "4c2e1181",
   "metadata": {},
   "outputs": [
    {
     "data": {
      "text/plain": [
       "45054.475508509415"
      ]
     },
     "execution_count": 371,
     "metadata": {},
     "output_type": "execute_result"
    }
   ],
   "source": [
    "np.sqrt(mean_squared_error(Y_test,y_pred))"
   ]
  },
  {
   "cell_type": "code",
   "execution_count": 372,
   "id": "5e7ad504",
   "metadata": {},
   "outputs": [
    {
     "data": {
      "text/plain": [
       "94478.81757106258"
      ]
     },
     "execution_count": 372,
     "metadata": {},
     "output_type": "execute_result"
    }
   ],
   "source": [
    "Y.std()"
   ]
  },
  {
   "cell_type": "code",
   "execution_count": 373,
   "id": "448533ec",
   "metadata": {},
   "outputs": [],
   "source": [
    "X=df1.loc[:,['Floor','Number_of_rooms','Sale_Type_encoder','Location_encoder','KvM_']].values\n",
    "Y=df1['Price'].values"
   ]
  },
  {
   "cell_type": "code",
   "execution_count": 374,
   "id": "40bd47f6",
   "metadata": {},
   "outputs": [
    {
     "data": {
      "text/html": [
       "<div>\n",
       "<style scoped>\n",
       "    .dataframe tbody tr th:only-of-type {\n",
       "        vertical-align: middle;\n",
       "    }\n",
       "\n",
       "    .dataframe tbody tr th {\n",
       "        vertical-align: top;\n",
       "    }\n",
       "\n",
       "    .dataframe thead th {\n",
       "        text-align: right;\n",
       "    }\n",
       "</style>\n",
       "<table border=\"1\" class=\"dataframe\">\n",
       "  <thead>\n",
       "    <tr style=\"text-align: right;\">\n",
       "      <th></th>\n",
       "      <th>Floor</th>\n",
       "      <th>Number_of_rooms</th>\n",
       "      <th>Price</th>\n",
       "      <th>KvM_</th>\n",
       "      <th>Sale_Type_encoder</th>\n",
       "      <th>Location_encoder</th>\n",
       "    </tr>\n",
       "  </thead>\n",
       "  <tbody>\n",
       "    <tr>\n",
       "      <th>Floor</th>\n",
       "      <td>1.000000</td>\n",
       "      <td>0.311088</td>\n",
       "      <td>0.111674</td>\n",
       "      <td>0.072412</td>\n",
       "      <td>NaN</td>\n",
       "      <td>0.055893</td>\n",
       "    </tr>\n",
       "    <tr>\n",
       "      <th>Number_of_rooms</th>\n",
       "      <td>0.311088</td>\n",
       "      <td>1.000000</td>\n",
       "      <td>0.134552</td>\n",
       "      <td>0.308222</td>\n",
       "      <td>NaN</td>\n",
       "      <td>-0.014925</td>\n",
       "    </tr>\n",
       "    <tr>\n",
       "      <th>Price</th>\n",
       "      <td>0.111674</td>\n",
       "      <td>0.134552</td>\n",
       "      <td>1.000000</td>\n",
       "      <td>0.682385</td>\n",
       "      <td>NaN</td>\n",
       "      <td>-0.034068</td>\n",
       "    </tr>\n",
       "    <tr>\n",
       "      <th>KvM_</th>\n",
       "      <td>0.072412</td>\n",
       "      <td>0.308222</td>\n",
       "      <td>0.682385</td>\n",
       "      <td>1.000000</td>\n",
       "      <td>NaN</td>\n",
       "      <td>-0.016704</td>\n",
       "    </tr>\n",
       "    <tr>\n",
       "      <th>Sale_Type_encoder</th>\n",
       "      <td>NaN</td>\n",
       "      <td>NaN</td>\n",
       "      <td>NaN</td>\n",
       "      <td>NaN</td>\n",
       "      <td>NaN</td>\n",
       "      <td>NaN</td>\n",
       "    </tr>\n",
       "    <tr>\n",
       "      <th>Location_encoder</th>\n",
       "      <td>0.055893</td>\n",
       "      <td>-0.014925</td>\n",
       "      <td>-0.034068</td>\n",
       "      <td>-0.016704</td>\n",
       "      <td>NaN</td>\n",
       "      <td>1.000000</td>\n",
       "    </tr>\n",
       "  </tbody>\n",
       "</table>\n",
       "</div>"
      ],
      "text/plain": [
       "                      Floor  Number_of_rooms     Price      KvM_  \\\n",
       "Floor              1.000000         0.311088  0.111674  0.072412   \n",
       "Number_of_rooms    0.311088         1.000000  0.134552  0.308222   \n",
       "Price              0.111674         0.134552  1.000000  0.682385   \n",
       "KvM_               0.072412         0.308222  0.682385  1.000000   \n",
       "Sale_Type_encoder       NaN              NaN       NaN       NaN   \n",
       "Location_encoder   0.055893        -0.014925 -0.034068 -0.016704   \n",
       "\n",
       "                   Sale_Type_encoder  Location_encoder  \n",
       "Floor                            NaN          0.055893  \n",
       "Number_of_rooms                  NaN         -0.014925  \n",
       "Price                            NaN         -0.034068  \n",
       "KvM_                             NaN         -0.016704  \n",
       "Sale_Type_encoder                NaN               NaN  \n",
       "Location_encoder                 NaN          1.000000  "
      ]
     },
     "execution_count": 374,
     "metadata": {},
     "output_type": "execute_result"
    }
   ],
   "source": [
    "df1.corr()"
   ]
  },
  {
   "cell_type": "code",
   "execution_count": 375,
   "id": "fd9db4e7",
   "metadata": {},
   "outputs": [
    {
     "data": {
      "text/html": [
       "<div>\n",
       "<style scoped>\n",
       "    .dataframe tbody tr th:only-of-type {\n",
       "        vertical-align: middle;\n",
       "    }\n",
       "\n",
       "    .dataframe tbody tr th {\n",
       "        vertical-align: top;\n",
       "    }\n",
       "\n",
       "    .dataframe thead th {\n",
       "        text-align: right;\n",
       "    }\n",
       "</style>\n",
       "<table border=\"1\" class=\"dataframe\">\n",
       "  <thead>\n",
       "    <tr style=\"text-align: right;\">\n",
       "      <th></th>\n",
       "      <th>Floor</th>\n",
       "      <th>Number_of_rooms</th>\n",
       "      <th>Price</th>\n",
       "      <th>KvM_</th>\n",
       "      <th>Sale_Type_encoder</th>\n",
       "      <th>Location_encoder</th>\n",
       "    </tr>\n",
       "  </thead>\n",
       "  <tbody>\n",
       "    <tr>\n",
       "      <th>count</th>\n",
       "      <td>28280.000000</td>\n",
       "      <td>28280.000000</td>\n",
       "      <td>28280.000000</td>\n",
       "      <td>28280.000000</td>\n",
       "      <td>28280.0</td>\n",
       "      <td>28280.000000</td>\n",
       "    </tr>\n",
       "    <tr>\n",
       "      <th>mean</th>\n",
       "      <td>6.287907</td>\n",
       "      <td>2.417680</td>\n",
       "      <td>170021.053925</td>\n",
       "      <td>100.959512</td>\n",
       "      <td>0.0</td>\n",
       "      <td>81.840559</td>\n",
       "    </tr>\n",
       "    <tr>\n",
       "      <th>std</th>\n",
       "      <td>5.417620</td>\n",
       "      <td>1.157744</td>\n",
       "      <td>94480.488033</td>\n",
       "      <td>49.166609</td>\n",
       "      <td>0.0</td>\n",
       "      <td>42.358754</td>\n",
       "    </tr>\n",
       "    <tr>\n",
       "      <th>min</th>\n",
       "      <td>0.000000</td>\n",
       "      <td>0.000000</td>\n",
       "      <td>42000.000000</td>\n",
       "      <td>0.100000</td>\n",
       "      <td>0.0</td>\n",
       "      <td>0.000000</td>\n",
       "    </tr>\n",
       "    <tr>\n",
       "      <th>25%</th>\n",
       "      <td>2.000000</td>\n",
       "      <td>2.000000</td>\n",
       "      <td>98000.000000</td>\n",
       "      <td>65.000000</td>\n",
       "      <td>0.0</td>\n",
       "      <td>50.750000</td>\n",
       "    </tr>\n",
       "    <tr>\n",
       "      <th>50%</th>\n",
       "      <td>5.000000</td>\n",
       "      <td>3.000000</td>\n",
       "      <td>145000.000000</td>\n",
       "      <td>93.000000</td>\n",
       "      <td>0.0</td>\n",
       "      <td>79.000000</td>\n",
       "    </tr>\n",
       "    <tr>\n",
       "      <th>75%</th>\n",
       "      <td>10.000000</td>\n",
       "      <td>3.000000</td>\n",
       "      <td>220000.000000</td>\n",
       "      <td>130.000000</td>\n",
       "      <td>0.0</td>\n",
       "      <td>121.000000</td>\n",
       "    </tr>\n",
       "    <tr>\n",
       "      <th>max</th>\n",
       "      <td>27.000000</td>\n",
       "      <td>4.000000</td>\n",
       "      <td>499000.000000</td>\n",
       "      <td>280.500000</td>\n",
       "      <td>0.0</td>\n",
       "      <td>154.000000</td>\n",
       "    </tr>\n",
       "  </tbody>\n",
       "</table>\n",
       "</div>"
      ],
      "text/plain": [
       "              Floor  Number_of_rooms          Price          KvM_  \\\n",
       "count  28280.000000     28280.000000   28280.000000  28280.000000   \n",
       "mean       6.287907         2.417680  170021.053925    100.959512   \n",
       "std        5.417620         1.157744   94480.488033     49.166609   \n",
       "min        0.000000         0.000000   42000.000000      0.100000   \n",
       "25%        2.000000         2.000000   98000.000000     65.000000   \n",
       "50%        5.000000         3.000000  145000.000000     93.000000   \n",
       "75%       10.000000         3.000000  220000.000000    130.000000   \n",
       "max       27.000000         4.000000  499000.000000    280.500000   \n",
       "\n",
       "       Sale_Type_encoder  Location_encoder  \n",
       "count            28280.0      28280.000000  \n",
       "mean                 0.0         81.840559  \n",
       "std                  0.0         42.358754  \n",
       "min                  0.0          0.000000  \n",
       "25%                  0.0         50.750000  \n",
       "50%                  0.0         79.000000  \n",
       "75%                  0.0        121.000000  \n",
       "max                  0.0        154.000000  "
      ]
     },
     "execution_count": 375,
     "metadata": {},
     "output_type": "execute_result"
    }
   ],
   "source": [
    "df1.describe()"
   ]
  },
  {
   "cell_type": "markdown",
   "id": "05da365b",
   "metadata": {},
   "source": [
    "#### Automation"
   ]
  },
  {
   "cell_type": "code",
   "execution_count": 377,
   "id": "8c9aa0a8",
   "metadata": {},
   "outputs": [],
   "source": [
    "sale='Satış'\n",
    "location1='Nərimanov r.'\n",
    "number_of_rooms=3\n",
    "floor=3\n",
    "kvm=100\n",
    "\n",
    "\n"
   ]
  },
  {
   "cell_type": "code",
   "execution_count": 384,
   "id": "d519e758",
   "metadata": {},
   "outputs": [],
   "source": [
    "def prediction_price(sale,location,number_of_rooms,floor,kvm):\n",
    "    \n",
    "    test_data=pd.DataFrame()\n",
    "    \n",
    "    sale_type_encoder=df1[df1['Sale_Type']==sale]['Sale_Type_encoder'].values[0]\n",
    "    location_encoder=df1[df1['Location']==location1]['Location_encoder'].values[0]\n",
    "    \n",
    "    \n",
    "    test_data=test_data.append({'Number_of_rooms':number_of_rooms,\n",
    "                               'Floor':floor,\n",
    "                               'KvM_':kvm,\n",
    "                                'Location_encoder':location_encoder,\n",
    "                                'Sale_type_encoder':sale_type_encoder\n",
    "                                \n",
    "                               },ignore_index=True )\n",
    "    \n",
    "    X_train = df1.loc[:,['Floor','Number_of_rooms','Sale_Type_encoder','Location_encoder','KvM_']].values\n",
    "    Y_train=df1['Price'].values\n",
    "    xgb_tuned.fit(X_train,Y_train)\n",
    "    y_pred=xgb_tuned.predict(test_data.values)[0]\n",
    "    \n",
    "    return y_pred\n",
    "    \n",
    "    "
   ]
  },
  {
   "cell_type": "code",
   "execution_count": 385,
   "id": "4813b4ff",
   "metadata": {},
   "outputs": [
    {
     "data": {
      "text/plain": [
       "146791.97"
      ]
     },
     "execution_count": 385,
     "metadata": {},
     "output_type": "execute_result"
    }
   ],
   "source": [
    "prediction_price('Satış','Nizami m.',3,3,100)"
   ]
  },
  {
   "cell_type": "code",
   "execution_count": null,
   "id": "244ceb16",
   "metadata": {},
   "outputs": [],
   "source": []
  }
 ],
 "metadata": {
  "kernelspec": {
   "display_name": "Python 3",
   "language": "python",
   "name": "python3"
  },
  "language_info": {
   "codemirror_mode": {
    "name": "ipython",
    "version": 3
   },
   "file_extension": ".py",
   "mimetype": "text/x-python",
   "name": "python",
   "nbconvert_exporter": "python",
   "pygments_lexer": "ipython3",
   "version": "3.8.8"
  }
 },
 "nbformat": 4,
 "nbformat_minor": 5
}
